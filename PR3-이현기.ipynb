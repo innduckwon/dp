{
 "cells": [
  {
   "cell_type": "code",
   "execution_count": null,
   "id": "51be7a45",
   "metadata": {},
   "outputs": [],
   "source": [
    "a=[1,2,3]"
   ]
  },
  {
   "cell_type": "code",
   "execution_count": null,
   "id": "177e5cf9",
   "metadata": {},
   "outputs": [],
   "source": [
    "b=(1,2,3)"
   ]
  },
  {
   "cell_type": "code",
   "execution_count": null,
   "id": "7e8800e9",
   "metadata": {},
   "outputs": [],
   "source": [
    "a[0]=2"
   ]
  },
  {
   "cell_type": "code",
   "execution_count": null,
   "id": "10ddb8d8",
   "metadata": {},
   "outputs": [],
   "source": [
    "b[0]=1"
   ]
  },
  {
   "cell_type": "code",
   "execution_count": 92,
   "id": "84b1eccf",
   "metadata": {},
   "outputs": [
    {
     "ename": "NameError",
     "evalue": "name 'b' is not defined",
     "output_type": "error",
     "traceback": [
      "\u001b[1;31m---------------------------------------------------------------------------\u001b[0m",
      "\u001b[1;31mNameError\u001b[0m                                 Traceback (most recent call last)",
      "\u001b[1;32m~\\AppData\\Local\\Temp/ipykernel_31508/4097703530.py\u001b[0m in \u001b[0;36m<module>\u001b[1;34m\u001b[0m\n\u001b[1;32m----> 1\u001b[1;33m \u001b[0mb\u001b[0m\u001b[1;33m[\u001b[0m\u001b[1;36m0\u001b[0m\u001b[1;33m]\u001b[0m\u001b[1;33m=\u001b[0m\u001b[1;36m1\u001b[0m\u001b[1;33m\u001b[0m\u001b[1;33m\u001b[0m\u001b[0m\n\u001b[0m\u001b[0;32m      2\u001b[0m \u001b[0mprint\u001b[0m\u001b[1;33m(\u001b[0m\u001b[0mb\u001b[0m\u001b[1;33m[\u001b[0m\u001b[1;36m1\u001b[0m\u001b[1;33m:\u001b[0m\u001b[1;33m]\u001b[0m\u001b[1;33m)\u001b[0m\u001b[1;33m\u001b[0m\u001b[1;33m\u001b[0m\u001b[0m\n",
      "\u001b[1;31mNameError\u001b[0m: name 'b' is not defined"
     ]
    }
   ],
   "source": [
    "print(b[1:])"
   ]
  },
  {
   "cell_type": "code",
   "execution_count": 5,
   "id": "2e3b4a74",
   "metadata": {},
   "outputs": [
    {
     "data": {
      "text/plain": [
       "{'a': 10, 'b': 20, 'c': 30}"
      ]
     },
     "execution_count": 5,
     "metadata": {},
     "output_type": "execute_result"
    }
   ],
   "source": [
    "dic={'a':10,'b':20,'c':30}\n",
    "dic"
   ]
  },
  {
   "cell_type": "code",
   "execution_count": 6,
   "id": "b6c12c95",
   "metadata": {},
   "outputs": [
    {
     "name": "stdout",
     "output_type": "stream",
     "text": [
      "10\n"
     ]
    }
   ],
   "source": [
    "print(dic['a'])"
   ]
  },
  {
   "cell_type": "code",
   "execution_count": 7,
   "id": "c5af3206",
   "metadata": {},
   "outputs": [
    {
     "data": {
      "text/plain": [
       "{'a': 10, 'b': 20, 'c': 30, 'd': 40}"
      ]
     },
     "execution_count": 7,
     "metadata": {},
     "output_type": "execute_result"
    }
   ],
   "source": [
    "dic['d']=40\n",
    "dic"
   ]
  },
  {
   "cell_type": "code",
   "execution_count": 9,
   "id": "f6756d03",
   "metadata": {},
   "outputs": [
    {
     "data": {
      "text/plain": [
       "{'a': 30, 'b': 20, 'c': 30, 'd': 40}"
      ]
     },
     "execution_count": 9,
     "metadata": {},
     "output_type": "execute_result"
    }
   ],
   "source": [
    "dic['a']=30\n",
    "dic"
   ]
  },
  {
   "cell_type": "code",
   "execution_count": 11,
   "id": "b723ebfb",
   "metadata": {},
   "outputs": [
    {
     "data": {
      "text/plain": [
       "{'a': 30, 'b': 20, 'c': 30, 'd': 40, 'e': [1, 2]}"
      ]
     },
     "execution_count": 11,
     "metadata": {},
     "output_type": "execute_result"
    }
   ],
   "source": [
    "dic['e']=[1,2]\n",
    "dic"
   ]
  },
  {
   "cell_type": "code",
   "execution_count": 12,
   "id": "e7660b54",
   "metadata": {},
   "outputs": [
    {
     "name": "stderr",
     "output_type": "stream",
     "text": [
      "<>:1: SyntaxWarning: 'int' object is not subscriptable; perhaps you missed a comma?\n",
      "<>:1: SyntaxWarning: 'int' object is not subscriptable; perhaps you missed a comma?\n",
      "C:\\Users\\이현기\\AppData\\Local\\Temp/ipykernel_31508/3470484.py:1: SyntaxWarning: 'int' object is not subscriptable; perhaps you missed a comma?\n",
      "  k={1[1,2]:'hi'}\n"
     ]
    },
    {
     "ename": "TypeError",
     "evalue": "'int' object is not subscriptable",
     "output_type": "error",
     "traceback": [
      "\u001b[1;31m---------------------------------------------------------------------------\u001b[0m",
      "\u001b[1;31mTypeError\u001b[0m                                 Traceback (most recent call last)",
      "\u001b[1;32m~\\AppData\\Local\\Temp/ipykernel_31508/3470484.py\u001b[0m in \u001b[0;36m<module>\u001b[1;34m\u001b[0m\n\u001b[1;32m----> 1\u001b[1;33m \u001b[0mk\u001b[0m\u001b[1;33m=\u001b[0m\u001b[1;33m{\u001b[0m\u001b[1;36m1\u001b[0m\u001b[1;33m[\u001b[0m\u001b[1;36m1\u001b[0m\u001b[1;33m,\u001b[0m\u001b[1;36m2\u001b[0m\u001b[1;33m]\u001b[0m\u001b[1;33m:\u001b[0m\u001b[1;34m'hi'\u001b[0m\u001b[1;33m}\u001b[0m\u001b[1;33m\u001b[0m\u001b[1;33m\u001b[0m\u001b[0m\n\u001b[0m",
      "\u001b[1;31mTypeError\u001b[0m: 'int' object is not subscriptable"
     ]
    }
   ],
   "source": [
    "k={1[1,2]:'hi'}"
   ]
  },
  {
   "cell_type": "code",
   "execution_count": 13,
   "id": "38dbe3b3",
   "metadata": {},
   "outputs": [],
   "source": [
    "k={(1,2):1}"
   ]
  },
  {
   "cell_type": "code",
   "execution_count": 23,
   "id": "b09127a7",
   "metadata": {},
   "outputs": [
    {
     "name": "stdout",
     "output_type": "stream",
     "text": [
      "[1, 0, 0, 0, 0, 1, 1]\n"
     ]
    }
   ],
   "source": [
    "a=['yes','no','no','no','no','yes','yes']\n",
    "d={'yes':1,'no':0}\n",
    "new_a=[d[key] for key in a]\n",
    "print(new_a)"
   ]
  },
  {
   "cell_type": "code",
   "execution_count": 20,
   "id": "39846db1",
   "metadata": {},
   "outputs": [],
   "source": [
    "del dic['a']"
   ]
  },
  {
   "cell_type": "code",
   "execution_count": 21,
   "id": "73749833",
   "metadata": {},
   "outputs": [
    {
     "name": "stdout",
     "output_type": "stream",
     "text": [
      "{'b': 20, 'c': 30, 'd': 40, 'e': [1, 2]}\n"
     ]
    }
   ],
   "source": [
    "print(dic)"
   ]
  },
  {
   "cell_type": "code",
   "execution_count": 34,
   "id": "ecabc605",
   "metadata": {},
   "outputs": [
    {
     "data": {
      "text/plain": [
       "dict_values([20, 30, 40, [1, 2]])"
      ]
     },
     "execution_count": 34,
     "metadata": {},
     "output_type": "execute_result"
    }
   ],
   "source": [
    "dic.values()"
   ]
  },
  {
   "cell_type": "code",
   "execution_count": 25,
   "id": "2b400ee6",
   "metadata": {},
   "outputs": [
    {
     "data": {
      "text/plain": [
       "dict_items([('b', 20), ('c', 30), ('d', 40), ('e', [1, 2])])"
      ]
     },
     "execution_count": 25,
     "metadata": {},
     "output_type": "execute_result"
    }
   ],
   "source": [
    "dic.items()"
   ]
  },
  {
   "cell_type": "code",
   "execution_count": 26,
   "id": "1856c712",
   "metadata": {},
   "outputs": [
    {
     "data": {
      "text/plain": [
       "{'b': 20, 'c': 30, 'd': 40, 'e': [1, 2]}"
      ]
     },
     "execution_count": 26,
     "metadata": {},
     "output_type": "execute_result"
    }
   ],
   "source": [
    "dic"
   ]
  },
  {
   "cell_type": "code",
   "execution_count": 30,
   "id": "719b7521",
   "metadata": {},
   "outputs": [
    {
     "data": {
      "text/plain": [
       "{1, 2, 3, 4, 5, 11, 41, 101}"
      ]
     },
     "execution_count": 30,
     "metadata": {},
     "output_type": "execute_result"
    }
   ],
   "source": [
    "c=[1,2,3,3,3,4,41,3,1,3,5,101,11,1,1]\n",
    "d=set(c)\n",
    "d"
   ]
  },
  {
   "cell_type": "code",
   "execution_count": 35,
   "id": "3f3a698b",
   "metadata": {},
   "outputs": [
    {
     "name": "stdout",
     "output_type": "stream",
     "text": [
      "False\n"
     ]
    }
   ],
   "source": [
    "a=4\n",
    "print(a>=5)"
   ]
  },
  {
   "cell_type": "markdown",
   "id": "08abdb6c",
   "metadata": {},
   "source": [
    "if a>=5:\n",
    "    print(a)"
   ]
  },
  {
   "cell_type": "code",
   "execution_count": 37,
   "id": "a9f71b42",
   "metadata": {},
   "outputs": [
    {
     "name": "stdout",
     "output_type": "stream",
     "text": [
      "5\n"
     ]
    }
   ],
   "source": [
    "while a==4:\n",
    "    a=a+1\n",
    "    print(a)"
   ]
  },
  {
   "cell_type": "code",
   "execution_count": 38,
   "id": "da59eb35",
   "metadata": {},
   "outputs": [
    {
     "name": "stdout",
     "output_type": "stream",
     "text": [
      "6\n",
      "7\n",
      "8\n",
      "9\n",
      "10\n"
     ]
    }
   ],
   "source": [
    "while a<10:\n",
    "    a=a+1\n",
    "    print(a)"
   ]
  },
  {
   "cell_type": "code",
   "execution_count": 40,
   "id": "f77c37f9",
   "metadata": {},
   "outputs": [
    {
     "name": "stdout",
     "output_type": "stream",
     "text": [
      "[1, 2, 3, 4]\n",
      "[1, 2, 3]\n",
      "[1, 2]\n",
      "[1]\n"
     ]
    }
   ],
   "source": [
    "a=[1,2,3,4]\n",
    "while a:\n",
    "    print(a)\n",
    "    a.pop()"
   ]
  },
  {
   "cell_type": "code",
   "execution_count": 44,
   "id": "d527abd8",
   "metadata": {},
   "outputs": [
    {
     "name": "stdout",
     "output_type": "stream",
     "text": [
      "2\n",
      "1\n"
     ]
    }
   ],
   "source": [
    "#mutable 객체, immutable 객체\n",
    "x=1\n",
    "y=2\n",
    "y=x\n",
    "x=y+1\n",
    "print(x)\n",
    "print(y)"
   ]
  },
  {
   "cell_type": "code",
   "execution_count": null,
   "id": "087e902c",
   "metadata": {},
   "outputs": [],
   "source": [
    "x=[1,2,3]\n",
    "y=x"
   ]
  },
  {
   "cell_type": "code",
   "execution_count": 46,
   "id": "68d77391",
   "metadata": {},
   "outputs": [
    {
     "name": "stdout",
     "output_type": "stream",
     "text": [
      "택시를 탄다\n"
     ]
    }
   ],
   "source": [
    "money=True\n",
    "if money:\n",
    "    print(\"택시를 탄다\")\n",
    "else:\n",
    "    print(\"걸어간다\")"
   ]
  },
  {
   "cell_type": "code",
   "execution_count": 49,
   "id": "cb4ba67d",
   "metadata": {},
   "outputs": [],
   "source": [
    "money=False\n",
    "if money:\n",
    "    print(\"택시를 탄다\")\n",
    "    print(\"택시를 타지 않는다\")"
   ]
  },
  {
   "cell_type": "code",
   "execution_count": 52,
   "id": "9fac8002",
   "metadata": {},
   "outputs": [
    {
     "name": "stdout",
     "output_type": "stream",
     "text": [
      "걷기\n"
     ]
    }
   ],
   "source": [
    "money=2000\n",
    "if money>=3000:\n",
    "    print(\"택시\")\n",
    "else:\n",
    "    print(\"걷기\")"
   ]
  },
  {
   "cell_type": "code",
   "execution_count": 55,
   "id": "edf55ac2",
   "metadata": {},
   "outputs": [
    {
     "name": "stdout",
     "output_type": "stream",
     "text": [
      "택시\n"
     ]
    }
   ],
   "source": [
    "money=2000\n",
    "card=1\n",
    "if money>=3000 or card:\n",
    "    print(\"택시\")\n",
    "else:\n",
    "    print(\"걷기\")"
   ]
  },
  {
   "cell_type": "code",
   "execution_count": 56,
   "id": "18cca7db",
   "metadata": {},
   "outputs": [
    {
     "name": "stdout",
     "output_type": "stream",
     "text": [
      "택시\n"
     ]
    }
   ],
   "source": [
    "pocket=['paper','cellphone','money']\n",
    "if 'money'in pocket:\n",
    "    print(\"택시\")\n",
    "else:\n",
    "    print(\"걷기\")"
   ]
  },
  {
   "cell_type": "code",
   "execution_count": 57,
   "id": "4253e63f",
   "metadata": {},
   "outputs": [],
   "source": [
    "pocket=['paper','cellphone','money']\n",
    "if 'money'in pocket:\n",
    "     pass\n",
    "else:\n",
    "    print(\"걷기\")"
   ]
  },
  {
   "cell_type": "code",
   "execution_count": 59,
   "id": "7205d961",
   "metadata": {},
   "outputs": [
    {
     "name": "stdout",
     "output_type": "stream",
     "text": [
      "택시\n",
      "card\n"
     ]
    }
   ],
   "source": [
    "pocket=['paper','cellphone','money']\n",
    "card=True \n",
    "if 'money'in pocket:\n",
    "    print(\"택시\")\n",
    "if card:\n",
    "    print(\"card\")\n",
    "else:\n",
    "    print(\"걷기\")"
   ]
  },
  {
   "cell_type": "code",
   "execution_count": 60,
   "id": "d9d5b1ad",
   "metadata": {},
   "outputs": [
    {
     "name": "stdout",
     "output_type": "stream",
     "text": [
      "택시\n"
     ]
    }
   ],
   "source": [
    "pocket=['paper','cellphone','money']\n",
    "card=True \n",
    "if 'money'in pocket:\n",
    "    print(\"택시\")\n",
    "elif card:\n",
    "    print(\"card\")\n",
    "else:\n",
    "    print(\"걷기\")"
   ]
  },
  {
   "cell_type": "code",
   "execution_count": 62,
   "id": "d360677a",
   "metadata": {},
   "outputs": [
    {
     "name": "stdout",
     "output_type": "stream",
     "text": [
      "A\n"
     ]
    }
   ],
   "source": [
    "score=85\n",
    "if score>80:\n",
    "    print(\"A\")\n",
    "elif score>70:\n",
    "    print(\"B\")\n",
    "else:\n",
    "    print(\"F\")"
   ]
  },
  {
   "cell_type": "code",
   "execution_count": 65,
   "id": "c34d717d",
   "metadata": {},
   "outputs": [
    {
     "name": "stdout",
     "output_type": "stream",
     "text": [
      "B\n"
     ]
    }
   ],
   "source": [
    "#semantic error, logicat error.\n",
    "#자동으로는 에러를 못 고친다. \n",
    "score=85\n",
    "if score>70:\n",
    "    print(\"B\") #여기서 조건이 만족되어 버림\n",
    "elif score>80:\n",
    "    print(\"A\") #따라서 여기서 부터의 조건은 무시됨. \n",
    "else:\n",
    "    print(\"F\")"
   ]
  },
  {
   "cell_type": "code",
   "execution_count": 66,
   "id": "aec5d7b8",
   "metadata": {},
   "outputs": [
    {
     "name": "stdout",
     "output_type": "stream",
     "text": [
      "나무를 1번 찍습니다\n",
      "나무를 2번 찍습니다\n",
      "나무를 3번 찍습니다\n",
      "나무를 4번 찍습니다\n",
      "나무를 5번 찍습니다\n",
      "나무를 6번 찍습니다\n",
      "나무를 7번 찍습니다\n",
      "나무를 8번 찍습니다\n",
      "나무를 9번 찍습니다\n",
      "나무를 10번 찍습니다\n"
     ]
    }
   ],
   "source": [
    "t=0\n",
    "while t<10:\n",
    "    print(\"나무를 %d번 찍습니다\"%(t+1))\n",
    "    t=t+1"
   ]
  },
  {
   "cell_type": "code",
   "execution_count": 67,
   "id": "23f8084c",
   "metadata": {},
   "outputs": [
    {
     "name": "stdout",
     "output_type": "stream",
     "text": [
      "나무를 1번 찍습니다\n",
      "나무를 2번 찍습니다\n",
      "나무를 3번 찍습니다\n",
      "나무를 4번 찍습니다\n",
      "나무를 5번 찍습니다\n"
     ]
    }
   ],
   "source": [
    "t=0\n",
    "while t<10:\n",
    "    print(\"나무를 %d번 찍습니다\"%(t+1))\n",
    "    t=t+1\n",
    "    if t==5:\n",
    "        break"
   ]
  },
  {
   "cell_type": "code",
   "execution_count": 68,
   "id": "bd95b701",
   "metadata": {},
   "outputs": [
    {
     "name": "stdout",
     "output_type": "stream",
     "text": [
      "1\n",
      "2\n",
      "3\n"
     ]
    }
   ],
   "source": [
    "a=[1,2,3]\n",
    "for i in a:\n",
    "    print(i)"
   ]
  },
  {
   "cell_type": "code",
   "execution_count": 70,
   "id": "326b0993",
   "metadata": {},
   "outputs": [
    {
     "name": "stdout",
     "output_type": "stream",
     "text": [
      "3\n",
      "7\n",
      "11\n"
     ]
    }
   ],
   "source": [
    "a=[(1,2),(3,4),(5,6)]\n",
    "for (i,j) in a:\n",
    "    print(i+j)"
   ]
  },
  {
   "cell_type": "code",
   "execution_count": 3,
   "id": "36950709",
   "metadata": {
    "scrolled": true
   },
   "outputs": [
    {
     "name": "stdout",
     "output_type": "stream",
     "text": [
      "pass\n",
      "pass\n",
      "pass\n",
      "fail\n",
      "pass\n"
     ]
    }
   ],
   "source": [
    "score=[65, 80, 75, 55, 90]\n",
    "n=0\n",
    "for i in score:\n",
    "    if i>=60:\n",
    "       print(\"pass\")\n",
    "    else:\n",
    "       print(\"fail\")\n",
    "    n=n+1"
   ]
  },
  {
   "cell_type": "code",
   "execution_count": 87,
   "id": "96fbffec",
   "metadata": {
    "scrolled": true
   },
   "outputs": [
    {
     "ename": "ValueError",
     "evalue": "unsupported format character '?' (0xbc88) at index 2",
     "output_type": "error",
     "traceback": [
      "\u001b[1;31m---------------------------------------------------------------------------\u001b[0m",
      "\u001b[1;31mValueError\u001b[0m                                Traceback (most recent call last)",
      "\u001b[1;32m~\\AppData\\Local\\Temp/ipykernel_31508/1027180817.py\u001b[0m in \u001b[0;36m<module>\u001b[1;34m\u001b[0m\n\u001b[0;32m      1\u001b[0m \u001b[1;32mfor\u001b[0m \u001b[0mi\u001b[0m \u001b[1;32min\u001b[0m \u001b[0mrange\u001b[0m\u001b[1;33m(\u001b[0m\u001b[0mlen\u001b[0m\u001b[1;33m(\u001b[0m\u001b[0mscore\u001b[0m\u001b[1;33m)\u001b[0m\u001b[1;33m)\u001b[0m\u001b[1;33m:\u001b[0m\u001b[1;33m\u001b[0m\u001b[1;33m\u001b[0m\u001b[0m\n\u001b[0;32m      2\u001b[0m     \u001b[1;32mif\u001b[0m \u001b[0mscore\u001b[0m\u001b[1;33m[\u001b[0m\u001b[0mi\u001b[0m\u001b[1;33m]\u001b[0m\u001b[1;33m>=\u001b[0m\u001b[1;36m60\u001b[0m\u001b[1;33m:\u001b[0m\u001b[1;33m\u001b[0m\u001b[1;33m\u001b[0m\u001b[0m\n\u001b[1;32m----> 3\u001b[1;33m         \u001b[0mprint\u001b[0m\u001b[1;33m(\u001b[0m\u001b[1;34m\"d%번 학생은 학격입니다.\"\u001b[0m\u001b[1;33m%\u001b[0m\u001b[0mi\u001b[0m\u001b[1;33m)\u001b[0m\u001b[1;33m\u001b[0m\u001b[1;33m\u001b[0m\u001b[0m\n\u001b[0m\u001b[0;32m      4\u001b[0m     \u001b[1;32melse\u001b[0m\u001b[1;33m:\u001b[0m\u001b[1;33m\u001b[0m\u001b[1;33m\u001b[0m\u001b[0m\n\u001b[0;32m      5\u001b[0m         \u001b[0mprint\u001b[0m\u001b[1;33m(\u001b[0m\u001b[1;34m\"d%번 학생은 불학격입니다.\"\u001b[0m\u001b[1;33m%\u001b[0m\u001b[0mi\u001b[0m\u001b[1;33m)\u001b[0m\u001b[1;33m\u001b[0m\u001b[1;33m\u001b[0m\u001b[0m\n",
      "\u001b[1;31mValueError\u001b[0m: unsupported format character '?' (0xbc88) at index 2"
     ]
    }
   ],
   "source": [
    "for i in range(len(score)):\n",
    "    if score[i]>=60:\n",
    "        print(\"d%번 학생은 학격입니다.\"%i)\n",
    "    else:\n",
    "        print(\"d%번 학생은 불학격입니다.\"%i)"
   ]
  },
  {
   "cell_type": "code",
   "execution_count": 79,
   "id": "8908f880",
   "metadata": {
    "scrolled": true
   },
   "outputs": [
    {
     "name": "stdout",
     "output_type": "stream",
     "text": [
      "55\n"
     ]
    }
   ],
   "source": [
    "sum=0\n",
    "#1부터 10까지의 합을 구하세요.\n",
    "#sum=0\n",
    "#sum=0+1, sum=1\n",
    "#i=2, sum=1+2\n",
    "#i=3 sum=sum+i sum=1+2+3\n",
    "#sum=sim+I\n",
    "for i in range(1,11):\n",
    "    sum=sum+i\n",
    "print(sum)"
   ]
  },
  {
   "cell_type": "code",
   "execution_count": 82,
   "id": "1d38079b",
   "metadata": {},
   "outputs": [
    {
     "name": "stdout",
     "output_type": "stream",
     "text": [
      "5050\n"
     ]
    }
   ],
   "source": [
    "#10부터 100까지 더해보세요.\n",
    "sum=0\n",
    "for i in range(1,101):\n",
    "    sum=sum+i\n",
    "print(sum)"
   ]
  },
  {
   "cell_type": "code",
   "execution_count": 83,
   "id": "124ca321",
   "metadata": {},
   "outputs": [
    {
     "name": "stdout",
     "output_type": "stream",
     "text": [
      "2X1=2\n",
      "2X2=4\n",
      "2X3=6\n",
      "2X4=8\n",
      "2X5=10\n",
      "2X6=12\n",
      "2X7=14\n",
      "2X8=16\n",
      "2X9=18\n",
      "3X1=3\n",
      "3X2=6\n",
      "3X3=9\n",
      "3X4=12\n",
      "3X5=15\n",
      "3X6=18\n",
      "3X7=21\n",
      "3X8=24\n",
      "3X9=27\n",
      "4X1=4\n",
      "4X2=8\n",
      "4X3=12\n",
      "4X4=16\n",
      "4X5=20\n",
      "4X6=24\n",
      "4X7=28\n",
      "4X8=32\n",
      "4X9=36\n",
      "5X1=5\n",
      "5X2=10\n",
      "5X3=15\n",
      "5X4=20\n",
      "5X5=25\n",
      "5X6=30\n",
      "5X7=35\n",
      "5X8=40\n",
      "5X9=45\n",
      "6X1=6\n",
      "6X2=12\n",
      "6X3=18\n",
      "6X4=24\n",
      "6X5=30\n",
      "6X6=36\n",
      "6X7=42\n",
      "6X8=48\n",
      "6X9=54\n",
      "7X1=7\n",
      "7X2=14\n",
      "7X3=21\n",
      "7X4=28\n",
      "7X5=35\n",
      "7X6=42\n",
      "7X7=49\n",
      "7X8=56\n",
      "7X9=63\n",
      "8X1=8\n",
      "8X2=16\n",
      "8X3=24\n",
      "8X4=32\n",
      "8X5=40\n",
      "8X6=48\n",
      "8X7=56\n",
      "8X8=64\n",
      "8X9=72\n",
      "9X1=9\n",
      "9X2=18\n",
      "9X3=27\n",
      "9X4=36\n",
      "9X5=45\n",
      "9X6=54\n",
      "9X7=63\n",
      "9X8=72\n",
      "9X9=81\n"
     ]
    }
   ],
   "source": [
    "#구구단\n",
    "\n",
    "#8*9=72번 찍힌다.\n",
    "for i in range(2,10):\n",
    "    for j in range(1,10):\n",
    "        print(\"%dX%d=%d\"%(i,j,i*j))\n"
   ]
  },
  {
   "cell_type": "code",
   "execution_count": null,
   "id": "655ae0e2",
   "metadata": {},
   "outputs": [],
   "source": []
  }
 ],
 "metadata": {
  "kernelspec": {
   "display_name": "Python 3 (ipykernel)",
   "language": "python",
   "name": "python3"
  },
  "language_info": {
   "codemirror_mode": {
    "name": "ipython",
    "version": 3
   },
   "file_extension": ".py",
   "mimetype": "text/x-python",
   "name": "python",
   "nbconvert_exporter": "python",
   "pygments_lexer": "ipython3",
   "version": "3.9.7"
  }
 },
 "nbformat": 4,
 "nbformat_minor": 5
}
